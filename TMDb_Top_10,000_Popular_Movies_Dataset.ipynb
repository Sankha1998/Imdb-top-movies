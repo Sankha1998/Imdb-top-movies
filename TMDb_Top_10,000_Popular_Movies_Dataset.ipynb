{
 "cells": [
  {
   "cell_type": "markdown",
   "metadata": {
    "colab": {},
    "colab_type": "code",
    "id": "rGtg-INWBa_u"
   },
   "source": [
    "## Importing Libraries\n"
   ]
  },
  {
   "cell_type": "code",
   "execution_count": 4,
   "metadata": {},
   "outputs": [],
   "source": [
    "import pandas as pd\n",
    "import numpy as nd"
   ]
  },
  {
   "cell_type": "code",
   "execution_count": 5,
   "metadata": {
    "colab": {},
    "colab_type": "code",
    "id": "GI9xSInKBf-H"
   },
   "outputs": [],
   "source": [
    "import requests"
   ]
  },
  {
   "cell_type": "markdown",
   "metadata": {},
   "source": [
    "## Code For Fetching The Data"
   ]
  },
  {
   "cell_type": "code",
   "execution_count": 6,
   "metadata": {
    "colab": {},
    "colab_type": "code",
    "id": "jAgWddn6BuaJ"
   },
   "outputs": [],
   "source": [
    "final=pd.DataFrame()\n",
    "\n",
    "for j in range(1,501):\n",
    "    \n",
    "    response=requests.get('https://api.themoviedb.org/3/movie/popular?api_key=8265bd1679663a7ea12ac168da84d2e8&language=en-US&page={}'.format(j)).json()\n",
    "    \n",
    "    popularity=[]\n",
    "    vote_count=[]\n",
    "    original_language=[]\n",
    "    title=[]\n",
    "    vote_average=[]\n",
    "    overview=[]\n",
    "    release_date=[]\n",
    "    ## containers \n",
    "\n",
    "\n",
    "    for i in response['results']:\n",
    "\n",
    "        popularity.append(i['popularity'])\n",
    "        vote_count.append(i['vote_count'])\n",
    "        original_language.append(i['original_language'])\n",
    "        title.append(i['title'])\n",
    "        vote_average.append(i['vote_average'])\n",
    "        overview.append(i['overview'])\n",
    "        try: ## exception handaling\n",
    "            release_date.append(i['release_date'])\n",
    "        except:\n",
    "            release_date.append(nd.nan)\n",
    "            \n",
    "            \n",
    "            \n",
    "    d={'title':title, 'overview':overview, 'original_language':original_language, 'release_date':release_date, 'popularity':popularity, 'vote_count':vote_count, 'vote_average':vote_average}\n",
    "\n",
    "    df=pd.DataFrame(d)\n",
    "    \n",
    "    final=final.append(df, ignore_index=True)"
   ]
  },
  {
   "cell_type": "code",
   "execution_count": 7,
   "metadata": {
    "colab": {
     "base_uri": "https://localhost:8080/",
     "height": 597
    },
    "colab_type": "code",
    "id": "FGRdUYdwG_2E",
    "outputId": "227ca694-4612-4c3e-8d82-56ec931bda30"
   },
   "outputs": [
    {
     "data": {
      "text/plain": [
       "(10000, 7)"
      ]
     },
     "execution_count": 7,
     "metadata": {},
     "output_type": "execute_result"
    }
   ],
   "source": [
    "final.shape"
   ]
  },
  {
   "cell_type": "code",
   "execution_count": 8,
   "metadata": {},
   "outputs": [],
   "source": [
    "final.to_csv('TMDb_v1.CSV') ## V_1"
   ]
  },
  {
   "cell_type": "markdown",
   "metadata": {},
   "source": [
    "## Process_2"
   ]
  },
  {
   "cell_type": "code",
   "execution_count": 9,
   "metadata": {
    "colab": {},
    "colab_type": "code",
    "id": "_7WCnU7Lacfo"
   },
   "outputs": [],
   "source": [
    "l=[]\n",
    "\n",
    "for j in range(1,501) :\n",
    "    response=requests.get('https://api.themoviedb.org/3/movie/popular?api_key=8265bd1679663a7ea12ac168da84d2e8&language=en-US&page={}'.format(j)).json()\n",
    "    for i in response['results'] :\n",
    "        try :\n",
    "            l.append([i['popularity'],i['vote_count'],i['original_language'],i['title'],\\\n",
    "                        i['vote_average'],i['overview'],i['release_date']])\n",
    "        except :\n",
    "            pass ## no missing values\n",
    "df=pd.DataFrame(l,columns=['popularity','vote_count','original_language','title','vote_average','overview','release_date'])"
   ]
  },
  {
   "cell_type": "code",
   "execution_count": 11,
   "metadata": {},
   "outputs": [
    {
     "data": {
      "text/plain": [
       "(9987, 7)"
      ]
     },
     "execution_count": 11,
     "metadata": {},
     "output_type": "execute_result"
    }
   ],
   "source": [
    "df.shape"
   ]
  },
  {
   "cell_type": "code",
   "execution_count": 12,
   "metadata": {},
   "outputs": [],
   "source": [
    "df.to_csv('TMDb_v2_.CSV') ## V_1"
   ]
  },
  {
   "cell_type": "code",
   "execution_count": null,
   "metadata": {},
   "outputs": [],
   "source": []
  }
 ],
 "metadata": {
  "colab": {
   "name": "TMDb Top 10,000 Popular Movies Dataset.ipynb",
   "provenance": []
  },
  "kernelspec": {
   "display_name": "Python 3",
   "language": "python",
   "name": "python3"
  },
  "language_info": {
   "codemirror_mode": {
    "name": "ipython",
    "version": 3
   },
   "file_extension": ".py",
   "mimetype": "text/x-python",
   "name": "python",
   "nbconvert_exporter": "python",
   "pygments_lexer": "ipython3",
   "version": "3.7.3"
  }
 },
 "nbformat": 4,
 "nbformat_minor": 1
}
